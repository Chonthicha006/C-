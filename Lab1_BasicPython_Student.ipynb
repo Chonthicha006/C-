{
  "nbformat": 4,
  "nbformat_minor": 0,
  "metadata": {
    "kernelspec": {
      "display_name": "Python 3 (system-wide)",
      "language": "python",
      "metadata": {
        "cocalc": {
          "description": "Python 3 programming language",
          "priority": 100,
          "url": "https://www.python.org/"
        }
      },
      "name": "python3"
    },
    "language_info": {
      "codemirror_mode": {
        "name": "ipython",
        "version": 3
      },
      "file_extension": ".py",
      "mimetype": "text/x-python",
      "name": "python",
      "nbconvert_exporter": "python",
      "pygments_lexer": "ipython3",
      "version": "3.8.5"
    },
    "colab": {
      "provenance": [],
      "include_colab_link": true
    }
  },
  "cells": [
    {
      "cell_type": "markdown",
      "metadata": {
        "id": "view-in-github",
        "colab_type": "text"
      },
      "source": [
        "<a href=\"https://colab.research.google.com/github/Chonthicha006/MTH361-Python-Coding/blob/main/Lab1_BasicPython_Student.ipynb\" target=\"_parent\"><img src=\"https://colab.research.google.com/assets/colab-badge.svg\" alt=\"Open In Colab\"/></a>"
      ]
    },
    {
      "cell_type": "markdown",
      "metadata": {
        "_uuid": "ab49cddce0098d90fbb1b447ba93cc3d1f0a683e",
        "collapsed": false,
        "id": "SU0fc9FMWAAQ"
      },
      "source": [
        "# Basic Python สำหรับ Data Science \n",
        "\n",
        "\n"
      ]
    },
    {
      "cell_type": "markdown",
      "metadata": {
        "_uuid": "7591852c70f28424903a4af62c70438869e08df6",
        "collapsed": false,
        "id": "6xP8S_RvWAAY"
      },
      "source": [
        "## Python <a id=\"Python\"></a>\n",
        "* High level programming language\n",
        "* Script programing language\n",
        "* Dynamically typed language"
      ]
    },
    {
      "cell_type": "markdown",
      "metadata": {
        "_uuid": "7f0783024b72c1a7100099c807dc08f7b7f31c1a",
        "collapsed": false,
        "id": "4ZX1fyV_WAAZ"
      },
      "source": [
        "### เวอร์ชั่นของ Python\n"
      ]
    },
    {
      "cell_type": "code",
      "metadata": {
        "_uuid": "5a4cba30e8b8a48de055e030d9ec9f48753de21d",
        "trusted": true,
        "id": "XBMxq30kWAAb",
        "outputId": "18269971-5f85-4c5c-cb6a-5b6906a7a40a",
        "colab": {
          "base_uri": "https://localhost:8080/"
        }
      },
      "source": [
        "!python --version"
      ],
      "execution_count": 2,
      "outputs": [
        {
          "output_type": "stream",
          "name": "stdout",
          "text": [
            "Python 3.9.16\n"
          ]
        }
      ]
    },
    {
      "cell_type": "markdown",
      "source": [],
      "metadata": {
        "id": "D_b_6XtFrQ18"
      }
    },
    {
      "cell_type": "markdown",
      "metadata": {
        "_uuid": "5365b8b6896865b1a6ed2ac5860d027f267a646a",
        "collapsed": false,
        "id": "q5NBREc2WAAm"
      },
      "source": [
        "## Basic Data Types\n",
        "Python เองก็มีตัวแปรพื้นฐานเช่นเดียวกับภาษาอื่นๆ อาทิเช่น จำนวนเต็ม (int) จำนวนจริง (float) บูเลียน (boolean) และสตริง (string)\n",
        "\n"
      ]
    },
    {
      "cell_type": "markdown",
      "source": [
        "### Integer and Real Number \n"
      ],
      "metadata": {
        "id": "EQhhv7zdKa-w"
      }
    },
    {
      "cell_type": "code",
      "source": [
        "x=10"
      ],
      "metadata": {
        "id": "4kNxV9NKql41"
      },
      "execution_count": 3,
      "outputs": []
    },
    {
      "cell_type": "code",
      "source": [
        "type(x)"
      ],
      "metadata": {
        "colab": {
          "base_uri": "https://localhost:8080/"
        },
        "id": "LVPzLz1dD6kV",
        "outputId": "8ebc2d9e-b9e6-476d-ac18-ff5fe68eab40"
      },
      "execution_count": 4,
      "outputs": [
        {
          "output_type": "execute_result",
          "data": {
            "text/plain": [
              "int"
            ]
          },
          "metadata": {},
          "execution_count": 4
        }
      ]
    },
    {
      "cell_type": "code",
      "source": [
        "y=20"
      ],
      "metadata": {
        "id": "58rESjsiqlzO"
      },
      "execution_count": 5,
      "outputs": []
    },
    {
      "cell_type": "code",
      "source": [
        "z=x+y\n",
        "z\n",
        "\n",
        "a=2.0\n",
        "print(type(a))\n",
        "a+x"
      ],
      "metadata": {
        "colab": {
          "base_uri": "https://localhost:8080/"
        },
        "id": "O5wxIRR-EAMs",
        "outputId": "e288bdd8-4d83-427d-a4e4-9ee47a7ed41e"
      },
      "execution_count": 33,
      "outputs": [
        {
          "output_type": "stream",
          "name": "stdout",
          "text": [
            "<class 'float'>\n"
          ]
        },
        {
          "output_type": "execute_result",
          "data": {
            "text/plain": [
              "12.0"
            ]
          },
          "metadata": {},
          "execution_count": 33
        }
      ]
    },
    {
      "cell_type": "code",
      "source": [
        "id(z)"
      ],
      "metadata": {
        "colab": {
          "base_uri": "https://localhost:8080/"
        },
        "id": "sG8iuE6MSygZ",
        "outputId": "1e9fa7d3-e159-4e7c-bb07-4fdfe00c1686"
      },
      "execution_count": 34,
      "outputs": [
        {
          "output_type": "execute_result",
          "data": {
            "text/plain": [
              "139866446240976"
            ]
          },
          "metadata": {},
          "execution_count": 34
        }
      ]
    },
    {
      "cell_type": "markdown",
      "source": [
        "### Object oriented programming\n"
      ],
      "metadata": {
        "id": "iaoLZ6PWDK2D"
      }
    },
    {
      "cell_type": "markdown",
      "source": [
        "\n",
        "`x = 10 `\n",
        "เป็นการประกาศค่าเริ่มต้นให้ x โดย x จะกลายเป็นค่า object ประเภท int ที่มีค่า 10 โดยเราจะเห็นได้จาก\n",
        "\n",
        "`<class 'int'>`\n",
        "\n",
        "โดยแนวคิดของ object จะประกอบไปด้วย 2 ส่วนคือ\n",
        "1. Property\n",
        "2. Method (function)\n",
        "\n",
        "อย่างเช่น class เป็น EV (รถยนต์ไฟฟ้า)\n",
        "Property : สีรถ, เครื่องยนต์, ล้อรถ\n",
        "Method: เดินหน้า, ถอยหลัง, เลี่ยว\n",
        "\n",
        "แนวทางการใช้งาน\n",
        "\n",
        "\n",
        "``` python\n",
        "car1 = EV            # สร้าง object car1\n",
        "car1.color = 'red'   # กำหนด property\n",
        "car1.forward()       # สั่งให้เคลื่อนที่ไปข้างหน้า\n",
        "                     # สังเกตว่ามีเครื่องหมายวงเล็บปิดท้าย method ส่วน property จะไม่มี\n",
        "```\n",
        "\n",
        "\n"
      ],
      "metadata": {
        "id": "oUHegX0EHZUn"
      }
    },
    {
      "cell_type": "code",
      "source": [],
      "metadata": {
        "id": "LRwh4aREqoaF"
      },
      "execution_count": null,
      "outputs": []
    },
    {
      "cell_type": "code",
      "source": [],
      "metadata": {
        "id": "fGdXElKyqoTP"
      },
      "execution_count": null,
      "outputs": []
    },
    {
      "cell_type": "markdown",
      "metadata": {
        "_uuid": "6a91a950668d32f878f9c55fa377a98be83d1531",
        "collapsed": false,
        "id": "120kKFYFWAAw"
      },
      "source": [
        "### Boolean\n",
        "เป็นข้อมูลอีกประเภทหนึ่งที่ใช้งานในเชิงตรรกศาสตร์ คือ มีค่าสองค่า True และ False ซึ่งจะใช้งานในเชิงการตัดสินใจในการเขียนโปรแกรม"
      ]
    },
    {
      "cell_type": "code",
      "source": [
        "t = True\n",
        "f = False"
      ],
      "metadata": {
        "id": "OFwLBP3Xqthg"
      },
      "execution_count": 10,
      "outputs": []
    },
    {
      "cell_type": "code",
      "source": [
        "print(type(t))\n",
        "print(type(f))\n",
        "#ตรวจสอบว่า t=f หรือไม่\n",
        "t==f\n",
        "t!=f"
      ],
      "metadata": {
        "id": "u7m_SBtRqtb3",
        "colab": {
          "base_uri": "https://localhost:8080/"
        },
        "outputId": "73e0049e-557f-4a75-e912-0db04b2da5e1"
      },
      "execution_count": 13,
      "outputs": [
        {
          "output_type": "stream",
          "name": "stdout",
          "text": [
            "<class 'bool'>\n",
            "<class 'bool'>\n"
          ]
        },
        {
          "output_type": "execute_result",
          "data": {
            "text/plain": [
              "True"
            ]
          },
          "metadata": {},
          "execution_count": 13
        }
      ]
    },
    {
      "cell_type": "markdown",
      "metadata": {
        "_uuid": "53004b2fd1aea9c29cd04f5d7adf09ea6c543c58",
        "collapsed": false,
        "id": "zLB4pqC9WAA0"
      },
      "source": [
        "### String \n"
      ]
    },
    {
      "cell_type": "code",
      "source": [
        "str1='Hello'\n",
        "str2=\"world\"\n",
        "str1\n",
        "str2 #เป็นqoute"
      ],
      "metadata": {
        "id": "Ofvhd91Hqw8T",
        "colab": {
          "base_uri": "https://localhost:8080/",
          "height": 35
        },
        "outputId": "8e292937-ff86-46d3-ee9d-e7eb430472e7"
      },
      "execution_count": 14,
      "outputs": [
        {
          "output_type": "execute_result",
          "data": {
            "text/plain": [
              "'world'"
            ],
            "application/vnd.google.colaboratory.intrinsic+json": {
              "type": "string"
            }
          },
          "metadata": {},
          "execution_count": 14
        }
      ]
    },
    {
      "cell_type": "code",
      "source": [
        "print(str1) #ออกมาเป็นอักขระ\n",
        "str3=str1+' '+str2\n",
        "str3"
      ],
      "metadata": {
        "id": "bGjmghQxqw4G",
        "colab": {
          "base_uri": "https://localhost:8080/",
          "height": 52
        },
        "outputId": "4196fdb1-a203-4a0f-b3b6-d71828a71661"
      },
      "execution_count": 21,
      "outputs": [
        {
          "output_type": "stream",
          "name": "stdout",
          "text": [
            "Hello\n"
          ]
        },
        {
          "output_type": "execute_result",
          "data": {
            "text/plain": [
              "'Hello world'"
            ],
            "application/vnd.google.colaboratory.intrinsic+json": {
              "type": "string"
            }
          },
          "metadata": {},
          "execution_count": 21
        }
      ]
    },
    {
      "cell_type": "code",
      "source": [
        "print(str1+' '+str2)"
      ],
      "metadata": {
        "colab": {
          "base_uri": "https://localhost:8080/"
        },
        "id": "ySMyWw9eNpqp",
        "outputId": "0e9a2080-6d7e-4ff8-eaa6-d269500a6169"
      },
      "execution_count": 22,
      "outputs": [
        {
          "output_type": "stream",
          "name": "stdout",
          "text": [
            "Hello world\n"
          ]
        }
      ]
    },
    {
      "cell_type": "code",
      "source": [
        "print('x=%d' %x)\n",
        "print('y=%d' %y)"
      ],
      "metadata": {
        "colab": {
          "base_uri": "https://localhost:8080/"
        },
        "id": "i1opvL7hOB7R",
        "outputId": "c9aff004-5aec-4bab-d1d7-553a45543641"
      },
      "execution_count": 26,
      "outputs": [
        {
          "output_type": "stream",
          "name": "stdout",
          "text": [
            "x=10\n",
            "y=20\n"
          ]
        }
      ]
    },
    {
      "cell_type": "code",
      "source": [
        "print('x=%d,y=%d' %(x,y))\n",
        "print('x=%.2f,y=%f' %(x,y))"
      ],
      "metadata": {
        "colab": {
          "base_uri": "https://localhost:8080/"
        },
        "id": "cxT3iNWEObX8",
        "outputId": "ea2b86e3-f0d6-475a-c6eb-c7555a58c818"
      },
      "execution_count": 31,
      "outputs": [
        {
          "output_type": "stream",
          "name": "stdout",
          "text": [
            "x=10,y=20\n",
            "x=10.00,y=20.000000\n"
          ]
        }
      ]
    },
    {
      "cell_type": "markdown",
      "source": [
        "### Python is a dynamicall typed language\n",
        "https://www.analyticsvidhya.com/blog/2021/04/an-overview-of-python-memory-management/\n",
        "\n"
      ],
      "metadata": {
        "id": "amQBxunY5hfb"
      }
    },
    {
      "cell_type": "code",
      "source": [
        "id(z)"
      ],
      "metadata": {
        "id": "Or4MGnt3qzTt",
        "colab": {
          "base_uri": "https://localhost:8080/"
        },
        "outputId": "58683836-8eb5-453b-880c-650f6ce8ff18"
      },
      "execution_count": 35,
      "outputs": [
        {
          "output_type": "execute_result",
          "data": {
            "text/plain": [
              "139866446240976"
            ]
          },
          "metadata": {},
          "execution_count": 35
        }
      ]
    },
    {
      "cell_type": "code",
      "source": [
        "id(x)"
      ],
      "metadata": {
        "id": "vrnms2xtqzPz",
        "colab": {
          "base_uri": "https://localhost:8080/"
        },
        "outputId": "6fdd78cc-3812-4e60-ab96-db918f3fbcd4"
      },
      "execution_count": 36,
      "outputs": [
        {
          "output_type": "execute_result",
          "data": {
            "text/plain": [
              "139866446240336"
            ]
          },
          "metadata": {},
          "execution_count": 36
        }
      ]
    },
    {
      "cell_type": "markdown",
      "source": [
        "## Control Flow Statement\n",
        "\n"
      ],
      "metadata": {
        "id": "UMN8Yr1avKG7"
      }
    },
    {
      "cell_type": "markdown",
      "source": [
        "###if\n",
        "\n",
        "ลักษณะโครงสร้างของการใช้ if เป็นดังนี้\n",
        "\n",
        "\n",
        "```python\n",
        "if some_condition:\n",
        "    statement1\n",
        "    statement2\n",
        "```\n",
        "\n",
        "ให้สังเกตว่าหลัง some\\_condition จะตามด้วย colon \\( : \\)"
      ],
      "metadata": {
        "id": "KTIceRUFvKG8"
      }
    },
    {
      "cell_type": "code",
      "source": [
        "money=20\n",
        "if money >=15:\n",
        "  print('ไปซื้อโค้กกัน')\n",
        "  print('จะเหลือเงิน %d บาท' %(money-15))"
      ],
      "metadata": {
        "id": "J6B3zG3_q1sA",
        "colab": {
          "base_uri": "https://localhost:8080/"
        },
        "outputId": "8cee503e-4d80-4d41-8e3d-b3261e908adb"
      },
      "execution_count": 37,
      "outputs": [
        {
          "output_type": "stream",
          "name": "stdout",
          "text": [
            "ไปซื้อโค้กกัน\n",
            "จะเหลือเงิน 5 บาท\n"
          ]
        }
      ]
    },
    {
      "cell_type": "code",
      "source": [],
      "metadata": {
        "id": "idNlDlrIBWHI"
      },
      "execution_count": null,
      "outputs": []
    },
    {
      "cell_type": "markdown",
      "source": [
        "### If\\-else\n",
        "\n",
        "กรณีที่มี 2 เส้นทางที่ต้องดำเนินการที่แตกต่างกันหลังจากการตรวจสอบเงื่อนไข\n",
        "\n",
        "```python\n",
        "if some_condition:\n",
        "    statement1\n",
        "    statement2\n",
        "    \n",
        "else:    \n",
        "    statement3\n",
        "    statement4\n",
        "```\n",
        "\n"
      ],
      "metadata": {
        "id": "3Imw6uH0vKG_"
      }
    },
    {
      "cell_type": "code",
      "source": [
        "money=20\n",
        "if money >=15:\n",
        "  print('ดื่มน้ำเปล่า')\n",
        "else:\n",
        "  print('ดื่มโค้ก')"
      ],
      "metadata": {
        "id": "IdqJl3CPq3EO",
        "colab": {
          "base_uri": "https://localhost:8080/"
        },
        "outputId": "e59751a6-e14a-4e44-fab3-74f8cf086ec4"
      },
      "execution_count": 38,
      "outputs": [
        {
          "output_type": "stream",
          "name": "stdout",
          "text": [
            "ดื่มน้ำเปล่า\n"
          ]
        }
      ]
    },
    {
      "cell_type": "code",
      "source": [],
      "metadata": {
        "id": "0hLUEbp8BW7U"
      },
      "execution_count": null,
      "outputs": []
    },
    {
      "cell_type": "markdown",
      "source": [
        "### if\\-elif\n",
        "\n",
        "``` python\n",
        "if some_condition:    \n",
        "    statement1\n",
        "    statement2\n",
        "\n",
        "elif some_condition:    \n",
        "    statement3\n",
        "    statement4\n",
        "\n",
        "else:    \n",
        "    statement5\n",
        "    statement6\n",
        "```\n"
      ],
      "metadata": {
        "id": "SKejAMZIvKHA"
      }
    },
    {
      "cell_type": "code",
      "source": [
        "money=100\n",
        "if money >=90:\n",
        "  print('ดื่มกาเเฟ น้ำส้มกัน')\n",
        "elif money>=50:\n",
        "  print('น้ำปั่น')\n",
        "elif money>=15:\n",
        "  print('Coke')\n",
        "else:\n",
        "  print('Tap water')"
      ],
      "metadata": {
        "id": "QeQH0bw_q4Xl",
        "colab": {
          "base_uri": "https://localhost:8080/"
        },
        "outputId": "09b6707f-e074-4651-9690-b4a254279ee5"
      },
      "execution_count": 41,
      "outputs": [
        {
          "output_type": "stream",
          "name": "stdout",
          "text": [
            "ดื่มกาเเฟ น้ำส้มกัน\n"
          ]
        }
      ]
    },
    {
      "cell_type": "code",
      "source": [],
      "metadata": {
        "id": "L0Kak8mpBYjS"
      },
      "execution_count": null,
      "outputs": []
    },
    {
      "cell_type": "markdown",
      "metadata": {
        "_uuid": "bbc2109a3ef6d5b8e432d13511b3ee23942ab7fc",
        "collapsed": false,
        "id": "PWk3uXxhvisW"
      },
      "source": [
        "## Loops\n",
        "ในบางครั้งเราต้องการให้โปรแกรมคอมพิวเตอร์ทำงานในลักษณะที่ซ้ำๆ การเขียนด้วย for loop ก็จะช่วยให้เราทำงานสะดวกขึ้น"
      ]
    },
    {
      "cell_type": "markdown",
      "source": [
        "### For \n",
        "โครงสร้างการเขียน \n",
        "\n",
        "``` python\n",
        "for variable in something:    \n",
        "    statement1\n",
        "    statement2\n",
        "```"
      ],
      "metadata": {
        "id": "Tm_ZOwG7vqvR"
      }
    },
    {
      "cell_type": "code",
      "source": [
        "range(10)"
      ],
      "metadata": {
        "id": "9JQyCsbdq6kg",
        "colab": {
          "base_uri": "https://localhost:8080/"
        },
        "outputId": "8fa5f9f5-dff6-4678-f7cb-ab865bed2b78"
      },
      "execution_count": 42,
      "outputs": [
        {
          "output_type": "execute_result",
          "data": {
            "text/plain": [
              "range(0, 10)"
            ]
          },
          "metadata": {},
          "execution_count": 42
        }
      ]
    },
    {
      "cell_type": "code",
      "source": [
        "list(range(10)) #show ค่า"
      ],
      "metadata": {
        "id": "UehpbJp7BZqd",
        "colab": {
          "base_uri": "https://localhost:8080/"
        },
        "outputId": "a0b147db-a9d2-4169-cf49-4b184b867d8f"
      },
      "execution_count": 44,
      "outputs": [
        {
          "output_type": "execute_result",
          "data": {
            "text/plain": [
              "[0, 1, 2, 3, 4, 5, 6, 7, 8, 9]"
            ]
          },
          "metadata": {},
          "execution_count": 44
        }
      ]
    },
    {
      "cell_type": "code",
      "source": [
        "for i in range(10):\n",
        "  print(i)  #ย่อหน้าอัตโนมัต"
      ],
      "metadata": {
        "colab": {
          "base_uri": "https://localhost:8080/"
        },
        "id": "uZNAzuljW9WA",
        "outputId": "0ae1cba2-6716-425f-c1cb-c68c4e1a22b1"
      },
      "execution_count": 46,
      "outputs": [
        {
          "output_type": "stream",
          "name": "stdout",
          "text": [
            "0\n",
            "1\n",
            "2\n",
            "3\n",
            "4\n",
            "5\n",
            "6\n",
            "7\n",
            "8\n",
            "9\n"
          ]
        }
      ]
    },
    {
      "cell_type": "markdown",
      "source": [
        "### While \n",
        "\n",
        "วิธีการการใช้งาน while loop เป็นดังนี้\n",
        "\n",
        "```python\n",
        "while some_condition:\n",
        "    statement1\n",
        "    statement2\n",
        "```"
      ],
      "metadata": {
        "id": "FaRf5oNgw65R"
      }
    },
    {
      "cell_type": "code",
      "source": [
        "money=100 #ทำจนกว่าจะไม่เป็นจริง\n",
        "while money>=15:\n",
        "  print('ดื่มโค้ก')\n",
        "  \n",
        "  #money=money-15\n",
        "\n",
        "\n",
        "  money-=15\n",
        "  print('เหลือเงิน %d บาท' %(money))"
      ],
      "metadata": {
        "id": "CFmnVgq-q9vn",
        "colab": {
          "base_uri": "https://localhost:8080/"
        },
        "outputId": "8336711e-01c4-41cb-9b87-bd064a8d90d0"
      },
      "execution_count": 53,
      "outputs": [
        {
          "output_type": "stream",
          "name": "stdout",
          "text": [
            "ดื่มโค้ก\n",
            "เหลือเงิน 85 บาท\n",
            "ดื่มโค้ก\n",
            "เหลือเงิน 70 บาท\n",
            "ดื่มโค้ก\n",
            "เหลือเงิน 55 บาท\n",
            "ดื่มโค้ก\n",
            "เหลือเงิน 40 บาท\n",
            "ดื่มโค้ก\n",
            "เหลือเงิน 25 บาท\n",
            "ดื่มโค้ก\n",
            "เหลือเงิน 10 บาท\n"
          ]
        }
      ]
    },
    {
      "cell_type": "code",
      "source": [],
      "metadata": {
        "id": "uxOXO0KvBaQS"
      },
      "execution_count": null,
      "outputs": []
    },
    {
      "cell_type": "markdown",
      "metadata": {
        "_uuid": "089d075a83871b192fbb153f6814d38092d053fa",
        "collapsed": false,
        "id": "UxeUEaPwWAA-"
      },
      "source": [
        "## Function\n",
        "เรามาทำความรู้การประกาศฟังก์ชัน ในเบื้องต้นก่อนเพื่อจะได้ทำแบบฝึกหัด\n",
        "การประกาศฟังก์ชันมีรูปแบบดังนี้\n",
        "\n",
        "``` python \n",
        "\n",
        "# This is formatted as code\n",
        "def functionName(arguments):\n",
        "    statement1\n",
        "    statement2\n",
        "    return  var1\n",
        "```"
      ]
    },
    {
      "cell_type": "code",
      "source": [
        "def buyCoke(m):\n",
        "  rem=m #declare\n",
        "  if m>=15:\n",
        "    print('ดื่มโค้ก')\n",
        "    rem=m-15\n",
        "  return rem,m #ส่งค่ากลับ ถ้า rem<15 ต้องdeclare rem ก่อน เพื่อให้มันรู้จัก rem"
      ],
      "metadata": {
        "id": "HKVtPabzrCgI"
      },
      "execution_count": 62,
      "outputs": []
    },
    {
      "cell_type": "code",
      "source": [
        "buyCoke(10)"
      ],
      "metadata": {
        "id": "bgwHpRttrCao",
        "colab": {
          "base_uri": "https://localhost:8080/"
        },
        "outputId": "9f08a74b-7f9b-45c5-b5e6-2fc9a180ca60"
      },
      "execution_count": 63,
      "outputs": [
        {
          "output_type": "execute_result",
          "data": {
            "text/plain": [
              "(10, 10)"
            ]
          },
          "metadata": {},
          "execution_count": 63
        }
      ]
    },
    {
      "cell_type": "code",
      "source": [
        "buyCoke(100)"
      ],
      "metadata": {
        "colab": {
          "base_uri": "https://localhost:8080/"
        },
        "id": "ziC1QZMtaPkM",
        "outputId": "51b8f1a5-8de0-4c2f-dd79-cb6a8f14fa60"
      },
      "execution_count": 64,
      "outputs": [
        {
          "output_type": "stream",
          "name": "stdout",
          "text": [
            "ดื่มโค้ก\n"
          ]
        },
        {
          "output_type": "execute_result",
          "data": {
            "text/plain": [
              "(85, 100)"
            ]
          },
          "metadata": {},
          "execution_count": 64
        }
      ]
    },
    {
      "cell_type": "markdown",
      "source": [
        "return ของฟังก์ชันนั้นจะมีหรือไม่ก็ได้ ดังตัวอย่างต่อไปนี้ จะไม่มีการ return ค่าส่งกลับมา"
      ],
      "metadata": {
        "id": "FpUHI-2QMr7B"
      }
    },
    {
      "cell_type": "code",
      "source": [],
      "metadata": {
        "id": "1t2-UXeQrBLJ"
      },
      "execution_count": null,
      "outputs": []
    },
    {
      "cell_type": "code",
      "source": [],
      "metadata": {
        "id": "4Og0y8OgrBCg"
      },
      "execution_count": null,
      "outputs": []
    },
    {
      "cell_type": "markdown",
      "metadata": {
        "collapsed": false,
        "id": "tkYO8iSGWABE"
      },
      "source": [
        "## Exerciser 1 \n",
        "จงเขียนโปรแกรมเพื่อตรวจสอบว่าประโยคทั้ง 2 ประโยคนี้เท่ากันหรือไม่ โดยไม่สนใจเรื่องของตัวอักษรตัวเล็กหรือตัวใหญ่\n"
      ]
    },
    {
      "cell_type": "code",
      "source": [
        "!pip install nose"
      ],
      "metadata": {
        "id": "xNTm2S98AR3Y"
      },
      "execution_count": null,
      "outputs": []
    },
    {
      "cell_type": "code",
      "metadata": {
        "deletable": false,
        "nbgrader": {
          "cell_type": "code",
          "checksum": "9dd1fc845a07775db8fd80f44d26aaf5",
          "grade": false,
          "grade_id": "7c3d5d",
          "locked": false,
          "schema_version": 3,
          "solution": true,
          "task": false
        },
        "id": "AsV9lUSeWABG"
      },
      "source": [
        "def checkStringEqual(a, b): # modify function name and parameters\n",
        "    \"\"\"\n",
        "    Check a and b are the same sentense without care about the Upper or Lower charactors\n",
        "    \"\"\"\n",
        "    # YOUR CODE HERE\n",
        "    raise NotImplementedError()\n",
        "        \n",
        "    return result \n"
      ],
      "execution_count": null,
      "outputs": []
    },
    {
      "cell_type": "code",
      "metadata": {
        "deletable": false,
        "editable": false,
        "nbgrader": {
          "grade": true,
          "grade_id": "70ede0",
          "locked": true,
          "points": 1,
          "schema_version": 3,
          "solution": false,
          "task": false
        },
        "id": "zR3jA46jWABJ"
      },
      "source": [
        "a = 'I Love Dog'\n",
        "b = 'I love dog'\n",
        "checkStringEqual(a,b)\n",
        "c = 'I love cat'\n",
        "checkStringEqual(a,c)\n",
        "\n",
        "# [Modify the tests below for your own problem]\n",
        "# Check that squares returns the correct output for several inputs:\n",
        "from nose.tools import assert_equal\n",
        "assert_equal(checkStringEqual(a,b), True)\n",
        "\n"
      ],
      "execution_count": null,
      "outputs": []
    },
    {
      "cell_type": "markdown",
      "source": [
        "## Exercise 2\n",
        "\n",
        "จงเขียนโปรแกรม \"for\" loop เพื่อบวกเลข ที่เก็บไว้ใน a โดยเพิ่มขึ้นครั้งละ 1 ไปจนถึง b  โดย a < b อย่างเช่น <br>\n",
        "a = 1 <br>\n",
        "b = 4 <br>\n",
        "totalSum = 1 + 2 + 3<br>"
      ],
      "metadata": {
        "id": "59tLwTid5hfw"
      }
    },
    {
      "cell_type": "code",
      "source": [
        "def totalSum(a,b):\n",
        "    total = 0\n",
        "    # YOUR CODE HERE\n",
        "    raise NotImplementedError()\n",
        "\n",
        "    return total\n"
      ],
      "metadata": {
        "id": "1gaeP52i5lZ7"
      },
      "execution_count": null,
      "outputs": []
    },
    {
      "cell_type": "code",
      "source": [
        "# [Modify the tests below for your own problem]\n",
        "# Check that squares returns the correct output for several inputs:\n",
        "from nose.tools import assert_equal\n",
        "assert_equal(totalSum(1,100), 4950)"
      ],
      "metadata": {
        "id": "udsDyOpZ5q9n"
      },
      "execution_count": null,
      "outputs": []
    },
    {
      "cell_type": "markdown",
      "metadata": {
        "_uuid": "47a95d790707e571c3eab11f1b516bd799564bcd",
        "collapsed": false,
        "id": "js-SGg3cWABM"
      },
      "source": [
        "# Containers <a id=\"Containers\"></a>\n",
        "Python นั้นมีตัวแปรพิเศษที่สามารถใส่ตัวแปรอื่นๆ เข้าไปข้างในได้ (เรียกตัวแปรพิเศษเหล่านี้ว่า container) ที่หลากหลายและใช้งานสะดวกมาก เช่น  lists, dictionaries, sets, and tuples.\n",
        "\n"
      ]
    },
    {
      "cell_type": "markdown",
      "source": [
        "\n",
        "## List\n",
        "เป็นตัวแปรทีสามารถเก็บตัวแปรชนิดอื่นๆ ได้ โดยไม่จำกัดชนิด และไม่จำกัดจำนวนและไม่จำเป็นต้องมีการประกาศไว้ล่วงหน้า \n",
        "\n",
        "\n",
        "``` python\n",
        "lstA = [1, 'a', 'b', 3]\n",
        "```\n",
        "\n"
      ],
      "metadata": {
        "id": "45nAY7r3WlXT"
      }
    },
    {
      "cell_type": "code",
      "source": [
        "A = [1, 'a', 'b', 3]"
      ],
      "metadata": {
        "id": "vbbw9Sc8rG40"
      },
      "execution_count": 65,
      "outputs": []
    },
    {
      "cell_type": "code",
      "source": [
        "print(A)\n",
        "print(type(A))"
      ],
      "metadata": {
        "id": "XHozB8zzrG0Z",
        "colab": {
          "base_uri": "https://localhost:8080/"
        },
        "outputId": "51a816b2-1651-4dab-8660-5292b8def3f8"
      },
      "execution_count": 68,
      "outputs": [
        {
          "output_type": "stream",
          "name": "stdout",
          "text": [
            "[1, 'a', 'b', 3]\n",
            "<class 'list'>\n"
          ]
        }
      ]
    },
    {
      "cell_type": "markdown",
      "source": [
        "**index**\n",
        "A[index]"
      ],
      "metadata": {
        "id": "G5repaShuaUf"
      }
    },
    {
      "cell_type": "code",
      "source": [
        "A[-2]\n"
      ],
      "metadata": {
        "colab": {
          "base_uri": "https://localhost:8080/"
        },
        "id": "hjgdOzkCuhJ3",
        "outputId": "ef2d9fd5-6023-4fdc-f2d7-3720930d7481"
      },
      "execution_count": 81,
      "outputs": [
        {
          "output_type": "execute_result",
          "data": {
            "text/plain": [
              "2"
            ]
          },
          "metadata": {},
          "execution_count": 81
        }
      ]
    },
    {
      "cell_type": "code",
      "source": [
        "A.append(2) #ต่อคำ\n",
        "A.append('s') \n",
        "A"
      ],
      "metadata": {
        "colab": {
          "base_uri": "https://localhost:8080/"
        },
        "id": "DmXuvNepuz57",
        "outputId": "acab7537-e42a-4252-fef7-10ad9abb6089"
      },
      "execution_count": 83,
      "outputs": [
        {
          "output_type": "execute_result",
          "data": {
            "text/plain": [
              "[1, 'a', 'b', 3, 'Hello', '2', 2, 2, 2, 2, 's']"
            ]
          },
          "metadata": {},
          "execution_count": 83
        }
      ]
    },
    {
      "cell_type": "code",
      "source": [
        "A.clear()\n",
        "A"
      ],
      "metadata": {
        "colab": {
          "base_uri": "https://localhost:8080/"
        },
        "id": "88XwUEDCwIKJ",
        "outputId": "3d69a670-3e35-43e7-eecd-fc83f7174c69"
      },
      "execution_count": 85,
      "outputs": [
        {
          "output_type": "execute_result",
          "data": {
            "text/plain": [
              "[]"
            ]
          },
          "metadata": {},
          "execution_count": 85
        }
      ]
    },
    {
      "cell_type": "code",
      "source": [
        "lstA=list(range(10))\n",
        "print(lstA)"
      ],
      "metadata": {
        "colab": {
          "base_uri": "https://localhost:8080/"
        },
        "id": "1mzz_ikwwQjC",
        "outputId": "3b45b33c-7701-4836-e676-28900187c30c"
      },
      "execution_count": 86,
      "outputs": [
        {
          "output_type": "stream",
          "name": "stdout",
          "text": [
            "[0, 1, 2, 3, 4, 5, 6, 7, 8, 9]\n"
          ]
        }
      ]
    },
    {
      "cell_type": "code",
      "source": [
        "str1='Hello'\n",
        "lstB=list(str1)\n",
        "print(lstB)\n"
      ],
      "metadata": {
        "colab": {
          "base_uri": "https://localhost:8080/"
        },
        "id": "9ToReWOkwmf_",
        "outputId": "e97fc13f-7978-4025-bcbf-37f5ebe15e0c"
      },
      "execution_count": 91,
      "outputs": [
        {
          "output_type": "stream",
          "name": "stdout",
          "text": [
            "['H', 'e', 'l', 'l', 'o']\n"
          ]
        }
      ]
    },
    {
      "cell_type": "code",
      "source": [
        "print(lstA)\n",
        "print(lstB)"
      ],
      "metadata": {
        "colab": {
          "base_uri": "https://localhost:8080/"
        },
        "id": "fgz4C4CfxBq7",
        "outputId": "e3b68ca5-6fee-4d0a-f488-9e23a13b701a"
      },
      "execution_count": 92,
      "outputs": [
        {
          "output_type": "stream",
          "name": "stdout",
          "text": [
            "[0, 1, 2, 3, 4, 5, 6, 7, 8, 9]\n",
            "['H', 'e', 'l', 'l', 'o']\n"
          ]
        }
      ]
    },
    {
      "cell_type": "code",
      "source": [
        "lstA[0]=1\n",
        "lstA"
      ],
      "metadata": {
        "colab": {
          "base_uri": "https://localhost:8080/"
        },
        "id": "nb36TmiXxWTd",
        "outputId": "789815d9-f211-48f9-ec70-d8bc451c8c23"
      },
      "execution_count": 95,
      "outputs": [
        {
          "output_type": "execute_result",
          "data": {
            "text/plain": [
              "[1, 1, 2, 3, 4, 5, 6, 7, 8, 9]"
            ]
          },
          "metadata": {},
          "execution_count": 95
        }
      ]
    },
    {
      "cell_type": "code",
      "source": [
        "lstA=lstB.copy() #ชี้ไปที่objectเดียวกันต้องเปลี่ยนเป็นcopy\n",
        "print(lstA)"
      ],
      "metadata": {
        "colab": {
          "base_uri": "https://localhost:8080/"
        },
        "id": "FS1HimOxxut9",
        "outputId": "65d7269a-6b72-4642-c720-32910eae8ad2"
      },
      "execution_count": 99,
      "outputs": [
        {
          "output_type": "stream",
          "name": "stdout",
          "text": [
            "['H', 'e', 'l', 'l', 'o']\n"
          ]
        }
      ]
    },
    {
      "cell_type": "code",
      "source": [
        "id(lstA) #idคนละตัวกับlstB"
      ],
      "metadata": {
        "colab": {
          "base_uri": "https://localhost:8080/"
        },
        "id": "WU7hhvNxyMWB",
        "outputId": "e07d2c16-abda-429c-efb3-ac5d025e9991"
      },
      "execution_count": 102,
      "outputs": [
        {
          "output_type": "execute_result",
          "data": {
            "text/plain": [
              "139865087008640"
            ]
          },
          "metadata": {},
          "execution_count": 102
        }
      ]
    },
    {
      "cell_type": "code",
      "source": [
        "id(lstB)"
      ],
      "metadata": {
        "colab": {
          "base_uri": "https://localhost:8080/"
        },
        "id": "EZSAuGuGyPkJ",
        "outputId": "5f2696ed-3caf-4d00-cfcc-e1c1885857b4"
      },
      "execution_count": 103,
      "outputs": [
        {
          "output_type": "execute_result",
          "data": {
            "text/plain": [
              "139865086968576"
            ]
          },
          "metadata": {},
          "execution_count": 103
        }
      ]
    },
    {
      "cell_type": "markdown",
      "source": [
        "**ข้อควรระวัง**\n",
        "เนื่องจาก Python เป็น Dynamicalled Typed Language อย่างที่ได้กล่าวไว้ เราจะทำสิ่งผิดพลาดต่อไปนี้ได้\n",
        "\n",
        "\n",
        "``` python\n",
        "lstB = lstA\n",
        "```\n",
        "\n"
      ],
      "metadata": {
        "id": "AowMFYmvCdM9"
      }
    },
    {
      "cell_type": "code",
      "source": [],
      "metadata": {
        "id": "1UK-GWQUrNDu"
      },
      "execution_count": null,
      "outputs": []
    },
    {
      "cell_type": "code",
      "source": [],
      "metadata": {
        "id": "hiCSlvTKktuN"
      },
      "execution_count": null,
      "outputs": []
    },
    {
      "cell_type": "markdown",
      "source": [
        "### Loop with List\n",
        "loop กับ list เป็นสิ่งที่คู่กัน เราสามารถนำเอาทั้งสองสิ่งที่นี้มาใช้งานได้อย่างมีประสิทธิภาพดังนี้"
      ],
      "metadata": {
        "id": "NLv-hEBuzrHc"
      }
    },
    {
      "cell_type": "code",
      "source": [
        "for i in lstA:\n",
        "  print(i)"
      ],
      "metadata": {
        "id": "Uj6whJnarP4r",
        "colab": {
          "base_uri": "https://localhost:8080/"
        },
        "outputId": "a4c581cf-8705-42ee-f3b4-ed7f41ea2006"
      },
      "execution_count": 104,
      "outputs": [
        {
          "output_type": "stream",
          "name": "stdout",
          "text": [
            "H\n",
            "e\n",
            "l\n",
            "l\n",
            "o\n"
          ]
        }
      ]
    },
    {
      "cell_type": "markdown",
      "source": [
        "**จงสร้าง list ของคำว่า Hello Thailand** **ซึ่งมาจาก**"
      ],
      "metadata": {
        "id": "hXYzwkh3y2V8"
      }
    },
    {
      "cell_type": "code",
      "source": [
        "TH='Hello Thailand'\n",
        "lstTH=list(TH)\n",
        "print(lstTH)"
      ],
      "metadata": {
        "id": "TDgBUc1VCHaE",
        "colab": {
          "base_uri": "https://localhost:8080/"
        },
        "outputId": "481cc5da-f891-4ab7-90c2-2f17b3e3dd17"
      },
      "execution_count": 105,
      "outputs": [
        {
          "output_type": "stream",
          "name": "stdout",
          "text": [
            "['H', 'e', 'l', 'l', 'o', ' ', 'T', 'h', 'a', 'i', 'l', 'a', 'n', 'd']\n"
          ]
        }
      ]
    },
    {
      "cell_type": "code",
      "source": [
        "lstTH[0]='h' #เปลี่ยนเป็นตัวพิมพ์เล็ก\n",
        "lstTH[5]='t'\n",
        "lstTH"
      ],
      "metadata": {
        "colab": {
          "base_uri": "https://localhost:8080/"
        },
        "id": "DEkFCeRozk_P",
        "outputId": "07de2766-eef4-4736-86f0-c87456143c43"
      },
      "execution_count": 110,
      "outputs": [
        {
          "output_type": "execute_result",
          "data": {
            "text/plain": [
              "['h', 'e', 'l', 'l', 'o', 't', 'T', 'h', 'a', 'i', 'l', 'a', 'n', 'd']"
            ]
          },
          "metadata": {},
          "execution_count": 110
        }
      ]
    },
    {
      "cell_type": "markdown",
      "source": [
        "บางกรณีเราจำเป็นต้องอ้างถึงตำแหน่งของข้อมูล ต้องใช้คำสั่ง enumerate\n",
        "\n",
        "\n",
        "``` python\n",
        "A = ['x', 'y', 'z']\n",
        "a = enumerate(A)\n",
        "list(a)\n",
        "```\n",
        "\n"
      ],
      "metadata": {
        "id": "knQqRqHc1KNA"
      }
    },
    {
      "cell_type": "code",
      "source": [
        "A = ['x', 'y', 'z'] #สร้าง index คู่กับอักกขระ #or #AA='xyz'\n",
        "                                         # A=list(AA) ก็ได้\n",
        "a = enumerate(A)\n",
        "list(a)"
      ],
      "metadata": {
        "id": "llwGMP53rS1g",
        "colab": {
          "base_uri": "https://localhost:8080/"
        },
        "outputId": "d7788362-3f4c-4916-c05e-df4eef1cb08e"
      },
      "execution_count": 117,
      "outputs": [
        {
          "output_type": "execute_result",
          "data": {
            "text/plain": [
              "[(0, 'x'), (1, 'y'), (2, 'z')]"
            ]
          },
          "metadata": {},
          "execution_count": 117
        }
      ]
    },
    {
      "cell_type": "code",
      "source": [
        "for inx,value in enumerate(A):\n",
        "   print('index=%d,value=%s' %(inx,value)) #%s คือ สตริง"
      ],
      "metadata": {
        "id": "mgI4ARO9rSxC",
        "colab": {
          "base_uri": "https://localhost:8080/"
        },
        "outputId": "86d00574-6c92-4092-89fd-fbcb053bcc9a"
      },
      "execution_count": 118,
      "outputs": [
        {
          "output_type": "stream",
          "name": "stdout",
          "text": [
            "index=0,value=x\n",
            "index=1,value=y\n",
            "index=2,value=z\n"
          ]
        }
      ]
    },
    {
      "cell_type": "code",
      "source": [
        "listN=list(range(80,100))\n",
        "listN"
      ],
      "metadata": {
        "colab": {
          "base_uri": "https://localhost:8080/"
        },
        "id": "9zTOS6LC2Qex",
        "outputId": "ef200d16-4bf8-4d20-a0a6-1b3184f2ee20"
      },
      "execution_count": 120,
      "outputs": [
        {
          "output_type": "execute_result",
          "data": {
            "text/plain": [
              "[80,\n",
              " 81,\n",
              " 82,\n",
              " 83,\n",
              " 84,\n",
              " 85,\n",
              " 86,\n",
              " 87,\n",
              " 88,\n",
              " 89,\n",
              " 90,\n",
              " 91,\n",
              " 92,\n",
              " 93,\n",
              " 94,\n",
              " 95,\n",
              " 96,\n",
              " 97,\n",
              " 98,\n",
              " 99]"
            ]
          },
          "metadata": {},
          "execution_count": 120
        }
      ]
    },
    {
      "cell_type": "markdown",
      "metadata": {
        "_uuid": "af68aee935a66df4c7ddced7a889918b99b1551d",
        "collapsed": false,
        "id": "0ySkSA7sWABQ"
      },
      "source": [
        "### Slicing \n",
        "การทำ slicing (สไลด์ซิ่ง) บน list คือการเข้าถึงตัวแปรหลายๆ ตัวบน list พร้อมๆ กัน ซึ่งเป็นคุณสมบัติที่ใช้งานได้สะดวกมากๆ "
      ]
    },
    {
      "cell_type": "code",
      "source": [
        "listN[0:11] #นับช่องว่าง"
      ],
      "metadata": {
        "id": "HfRTEKMnrVpz",
        "colab": {
          "base_uri": "https://localhost:8080/"
        },
        "outputId": "531991a5-f01f-4cf8-b6de-9eb9d425aa48"
      },
      "execution_count": 124,
      "outputs": [
        {
          "output_type": "execute_result",
          "data": {
            "text/plain": [
              "[80, 81, 82, 83, 84, 85, 86, 87, 88, 89, 90]"
            ]
          },
          "metadata": {},
          "execution_count": 124
        }
      ]
    },
    {
      "cell_type": "markdown",
      "source": [
        "# 82-88 ต้องเฉือนยังไง?"
      ],
      "metadata": {
        "id": "vPdwJq1U3V4B"
      }
    },
    {
      "cell_type": "code",
      "source": [
        "listN[2:9]"
      ],
      "metadata": {
        "id": "ppNEFf5grVkB",
        "colab": {
          "base_uri": "https://localhost:8080/"
        },
        "outputId": "87833834-7d81-4691-a157-d76c85c7122a"
      },
      "execution_count": 126,
      "outputs": [
        {
          "output_type": "execute_result",
          "data": {
            "text/plain": [
              "[82, 83, 84, 85, 86, 87, 88]"
            ]
          },
          "metadata": {},
          "execution_count": 126
        }
      ]
    },
    {
      "cell_type": "markdown",
      "metadata": {
        "_uuid": "f45fdff7068037cebd8aa43df824f8c23a7f8617",
        "collapsed": false,
        "id": "rHLVBTBaWABn"
      },
      "source": [
        "## Dictionary\n",
        "Container สุดยอดอีกตัวของ Python คือ dictionary (เรียกสั้นๆ ว่า dict) โดยจะประกอบไปด้วย key และ value ประกอบกันเป็นคู่ดังนี้ \n",
        "\n",
        "```python \n",
        "{key1 : value1, key2 : value2} \n",
        "```\n",
        "โดย key และ value จะเป็นตัวแปรประเภทใดก็ได้   "
      ]
    },
    {
      "cell_type": "code",
      "source": [],
      "metadata": {
        "id": "Ln9YHXobrYJM"
      },
      "execution_count": null,
      "outputs": []
    },
    {
      "cell_type": "code",
      "source": [],
      "metadata": {
        "id": "Rs2QWrNlrYE_"
      },
      "execution_count": null,
      "outputs": []
    },
    {
      "cell_type": "markdown",
      "metadata": {
        "_uuid": "bbc2109a3ef6d5b8e432d13511b3ee23942ab7fc",
        "collapsed": false,
        "id": "VxAWhqWRWABq"
      },
      "source": [
        "### Loops with Dict\n",
        "เราสามารถวนลูปใน dict ได้ง่ายๆ เหมือน list "
      ]
    },
    {
      "cell_type": "code",
      "source": [],
      "metadata": {
        "id": "7OplLpMorcKT"
      },
      "execution_count": null,
      "outputs": []
    },
    {
      "cell_type": "code",
      "source": [],
      "metadata": {
        "id": "A8Y9vrfpD2Iq"
      },
      "execution_count": null,
      "outputs": []
    },
    {
      "cell_type": "markdown",
      "metadata": {
        "_uuid": "6a7cc117cd35832461892db0a29dc24bd337fb81",
        "collapsed": false,
        "id": "Qp-d8feyWABx"
      },
      "source": [
        "## Set\n",
        "set เป็น container ที่มีคุณสมบัติเหมือน set ในวิชาคณิตศาสตร์ นั่นคือสมาชิกใน set จะไม่มีการเรียงลำดับ และจะไม่ซ้ำกัน เช่น\n",
        "\n",
        "\n",
        "```\n",
        "st = {'cat', 'dog'}\n",
        "```"
      ]
    },
    {
      "cell_type": "code",
      "source": [],
      "metadata": {
        "id": "eT-rAqpxrfU9"
      },
      "execution_count": null,
      "outputs": []
    },
    {
      "cell_type": "code",
      "source": [],
      "metadata": {
        "id": "QqA99ToXrfRR"
      },
      "execution_count": null,
      "outputs": []
    },
    {
      "cell_type": "markdown",
      "metadata": {
        "_uuid": "4e86bc106118cb51122f0f5f485103a6424d0069",
        "collapsed": false,
        "id": "Ac82AO7aWAB2"
      },
      "source": [
        "### Loops with Set\n",
        "การวนลูปทำได้เช่นเดียวกับ list ยกเว้นแต่เราจะไม่ทราบลำดับของสมาชิกใน set\n",
        "\n",
        "เช่น\n",
        "\n",
        "```\n",
        "animals = {'cat', 'dog', 'fish'}\n",
        "for idx, animal in enumerate(animals):\n",
        "    print('#%d: %s' % (idx + 1, animal))\n",
        "```"
      ]
    },
    {
      "cell_type": "code",
      "source": [],
      "metadata": {
        "id": "mS3hhAXKrkct"
      },
      "execution_count": null,
      "outputs": []
    },
    {
      "cell_type": "code",
      "source": [],
      "metadata": {
        "id": "Pf_M7gZUrkYd"
      },
      "execution_count": null,
      "outputs": []
    },
    {
      "cell_type": "markdown",
      "metadata": {
        "_uuid": "d6ba94f07f6cf17993076a288d65d8fa9574baea",
        "collapsed": false,
        "id": "qDPicBB2m3f6"
      },
      "source": [
        "## Tuple\n",
        "Tuple คือตัวแปรประเภท **sequential** (ลำดับ) เหมือนกับ list ซึ่งจะทำ slicing ได้  \n",
        "การใช้งานประกาศดังนี้ \n",
        "\n",
        "```\n",
        "t = (1, 2)\n",
        "```\n"
      ]
    },
    {
      "cell_type": "code",
      "source": [],
      "metadata": {
        "id": "hJsQBqlJrqXm"
      },
      "execution_count": null,
      "outputs": []
    },
    {
      "cell_type": "code",
      "source": [],
      "metadata": {
        "id": "SKH45RkjrqT-"
      },
      "execution_count": null,
      "outputs": []
    },
    {
      "cell_type": "markdown",
      "source": [
        "มีจุดแตกต่างที่สำคัญสองเรื่อง \n",
        "1. เรื่องแรกคือเมื่อมีการสร้าง tuple แล้ว เราจะไม่สามารถเปลี่ยนค่าข้างใน tuple ด้วยเครื่อง `=` ได้  \n"
      ],
      "metadata": {
        "id": "xUIzn_a89QnJ"
      }
    },
    {
      "cell_type": "code",
      "source": [],
      "metadata": {
        "id": "TS4VuU7vrsYS"
      },
      "execution_count": null,
      "outputs": []
    },
    {
      "cell_type": "code",
      "source": [],
      "metadata": {
        "id": "QZmMXiKwrsUZ"
      },
      "execution_count": null,
      "outputs": []
    },
    {
      "cell_type": "markdown",
      "metadata": {
        "_uuid": "bb6156e7b2a6c1e5325b3c3e630ca58930adf8b4",
        "collapsed": false,
        "id": "o-nfmrNIWAB-"
      },
      "source": [
        "2. ข้อแตกต่างเรื่องที่สองคือ เราสามารถใช้ tuple เป็น key ใน dict หรือสมาชิกใน set ได้ (list ไม่สามารถใช้งานในรูปแบบเหล่านี้ได้) "
      ]
    },
    {
      "cell_type": "code",
      "source": [],
      "metadata": {
        "id": "3KcFxDBArt0U"
      },
      "execution_count": null,
      "outputs": []
    },
    {
      "cell_type": "code",
      "source": [],
      "metadata": {
        "id": "1hiY3zVP8xxp"
      },
      "execution_count": null,
      "outputs": []
    },
    {
      "cell_type": "markdown",
      "metadata": {
        "collapsed": false,
        "id": "ztK4bVPKWACK"
      },
      "source": [
        "## Exercise 3\n",
        "จากข้อมูลที่อยู่ใน Dictionary ดังนี้ \n",
        "\n",
        "``` python\n",
        "d = {'person': 2, 'cat': 4, 'spider': 8, 'horse': 4, 'bird' : 2 }\n",
        "```\n",
        "\n",
        "จงเขียนโปรแกรมเพื่อแสดงค่าให้ส่งรายชือสัตว์ที่จำนวนขาตามกำหนดเช่น <br>\n",
        "x = liveLeg(8) <br>\n",
        "print(x) \n",
        "\n",
        "'spider' \n"
      ]
    },
    {
      "cell_type": "code",
      "metadata": {
        "deletable": false,
        "nbgrader": {
          "cell_type": "code",
          "checksum": "cbc1e0d248a6726edb96879aa9a6ae0e",
          "grade": false,
          "grade_id": "7a9523",
          "locked": false,
          "schema_version": 3,
          "solution": true,
          "task": false
        },
        "id": "BPUlGKGeWACL"
      },
      "source": [
        "d = {'person': 2, 'cat': 4, 'spider': 8, 'horse': 4, 'bird' : 2 }\n",
        "\n",
        "def liveLegs(legs):\n",
        "    live = [];\n",
        "    # YOUR CODE HERE\n",
        "    raise NotImplementedError() \n",
        "    return live\n"
      ],
      "execution_count": null,
      "outputs": []
    },
    {
      "cell_type": "code",
      "metadata": {
        "deletable": false,
        "editable": false,
        "nbgrader": {
          "grade": true,
          "grade_id": "605bb2",
          "locked": true,
          "points": 1,
          "schema_version": 3,
          "solution": false,
          "task": false
        },
        "id": "V1rR5QyZWACN"
      },
      "source": [
        "# [Modify the tests below for your own problem]\n",
        "# Check that squares returns the correct output for several inputs:\n",
        "from nose.tools import assert_equal\n",
        "assert_equal(liveLegs(2), ['person', 'bird'])\n",
        "assert_equal(liveLegs(8), ['spider'])\n"
      ],
      "execution_count": null,
      "outputs": []
    }
  ]
}